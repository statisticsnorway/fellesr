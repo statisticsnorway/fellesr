{
 "cells": [
  {
   "cell_type": "markdown",
   "id": "a16f4ec3-bdd3-4d1f-96ee-3db2e1c471bd",
   "metadata": {},
   "source": [
    "# R DAPLA debugging"
   ]
  },
  {
   "cell_type": "markdown",
   "id": "950bc108-fb77-42cf-9652-7647af461d8a",
   "metadata": {},
   "source": [
    "Dersom man starter en ny økt med SparkR (local) kjører all koden i cellen nedenfor veldig raskt (0.9751236 secs).\n",
    "\n",
    "Ved å trykke \"Restart kernel and run all cells\" kjører også alle cellene i ntoebooken uten å henge seg. "
   ]
  },
  {
   "cell_type": "code",
   "execution_count": 1,
   "id": "3643fe1a-842c-4d4f-a2f0-6b8c8d13f2f9",
   "metadata": {},
   "outputs": [
    {
     "data": {
      "text/html": [
       "'data.frame'"
      ],
      "text/latex": [
       "'data.frame'"
      ],
      "text/markdown": [
       "'data.frame'"
      ],
      "text/plain": [
       "[1] \"data.frame\""
      ]
     },
     "metadata": {},
     "output_type": "display_data"
    },
    {
     "data": {
      "text/html": [
       "<style>\n",
       ".list-inline {list-style: none; margin:0; padding: 0}\n",
       ".list-inline>li {display: inline-block}\n",
       ".list-inline>li:not(:last-child)::after {content: \"\\00b7\"; padding: 0 .5ex}\n",
       "</style>\n",
       "<ol class=list-inline><li>'Year'</li><li>'Month'</li><li>'DayofMonth'</li><li>'DayOfWeek'</li><li>'DepTime'</li><li>'CRSDepTime'</li><li>'ArrTime'</li><li>'CRSArrTime'</li><li>'UniqueCarrier'</li><li>'FlightNum'</li><li>'TailNum'</li><li>'ActualElapsedTime'</li><li>'CRSElapsedTime'</li><li>'AirTime'</li><li>'ArrDelay'</li><li>'DepDelay'</li><li>'Origin'</li><li>'Dest'</li><li>'Distance'</li><li>'TaxiIn'</li><li>'TaxiOut'</li><li>'Cancelled'</li><li>'CancellationCode'</li><li>'Diverted'</li><li>'CarrierDelay'</li><li>'WeatherDelay'</li><li>'NASDelay'</li><li>'SecurityDelay'</li><li>'LateAircraftDelay'</li></ol>\n"
      ],
      "text/latex": [
       "\\begin{enumerate*}\n",
       "\\item 'Year'\n",
       "\\item 'Month'\n",
       "\\item 'DayofMonth'\n",
       "\\item 'DayOfWeek'\n",
       "\\item 'DepTime'\n",
       "\\item 'CRSDepTime'\n",
       "\\item 'ArrTime'\n",
       "\\item 'CRSArrTime'\n",
       "\\item 'UniqueCarrier'\n",
       "\\item 'FlightNum'\n",
       "\\item 'TailNum'\n",
       "\\item 'ActualElapsedTime'\n",
       "\\item 'CRSElapsedTime'\n",
       "\\item 'AirTime'\n",
       "\\item 'ArrDelay'\n",
       "\\item 'DepDelay'\n",
       "\\item 'Origin'\n",
       "\\item 'Dest'\n",
       "\\item 'Distance'\n",
       "\\item 'TaxiIn'\n",
       "\\item 'TaxiOut'\n",
       "\\item 'Cancelled'\n",
       "\\item 'CancellationCode'\n",
       "\\item 'Diverted'\n",
       "\\item 'CarrierDelay'\n",
       "\\item 'WeatherDelay'\n",
       "\\item 'NASDelay'\n",
       "\\item 'SecurityDelay'\n",
       "\\item 'LateAircraftDelay'\n",
       "\\end{enumerate*}\n"
      ],
      "text/markdown": [
       "1. 'Year'\n",
       "2. 'Month'\n",
       "3. 'DayofMonth'\n",
       "4. 'DayOfWeek'\n",
       "5. 'DepTime'\n",
       "6. 'CRSDepTime'\n",
       "7. 'ArrTime'\n",
       "8. 'CRSArrTime'\n",
       "9. 'UniqueCarrier'\n",
       "10. 'FlightNum'\n",
       "11. 'TailNum'\n",
       "12. 'ActualElapsedTime'\n",
       "13. 'CRSElapsedTime'\n",
       "14. 'AirTime'\n",
       "15. 'ArrDelay'\n",
       "16. 'DepDelay'\n",
       "17. 'Origin'\n",
       "18. 'Dest'\n",
       "19. 'Distance'\n",
       "20. 'TaxiIn'\n",
       "21. 'TaxiOut'\n",
       "22. 'Cancelled'\n",
       "23. 'CancellationCode'\n",
       "24. 'Diverted'\n",
       "25. 'CarrierDelay'\n",
       "26. 'WeatherDelay'\n",
       "27. 'NASDelay'\n",
       "28. 'SecurityDelay'\n",
       "29. 'LateAircraftDelay'\n",
       "\n",
       "\n"
      ],
      "text/plain": [
       " [1] \"Year\"              \"Month\"             \"DayofMonth\"       \n",
       " [4] \"DayOfWeek\"         \"DepTime\"           \"CRSDepTime\"       \n",
       " [7] \"ArrTime\"           \"CRSArrTime\"        \"UniqueCarrier\"    \n",
       "[10] \"FlightNum\"         \"TailNum\"           \"ActualElapsedTime\"\n",
       "[13] \"CRSElapsedTime\"    \"AirTime\"           \"ArrDelay\"         \n",
       "[16] \"DepDelay\"          \"Origin\"            \"Dest\"             \n",
       "[19] \"Distance\"          \"TaxiIn\"            \"TaxiOut\"          \n",
       "[22] \"Cancelled\"         \"CancellationCode\"  \"Diverted\"         \n",
       "[25] \"CarrierDelay\"      \"WeatherDelay\"      \"NASDelay\"         \n",
       "[28] \"SecurityDelay\"     \"LateAircraftDelay\""
      ]
     },
     "metadata": {},
     "output_type": "display_data"
    },
    {
     "data": {
      "text/html": [
       "<table class=\"dataframe\">\n",
       "<caption>A data.frame: 6 × 29</caption>\n",
       "<thead>\n",
       "\t<tr><th></th><th scope=col>Year</th><th scope=col>Month</th><th scope=col>DayofMonth</th><th scope=col>DayOfWeek</th><th scope=col>DepTime</th><th scope=col>CRSDepTime</th><th scope=col>ArrTime</th><th scope=col>CRSArrTime</th><th scope=col>UniqueCarrier</th><th scope=col>FlightNum</th><th scope=col>⋯</th><th scope=col>TaxiIn</th><th scope=col>TaxiOut</th><th scope=col>Cancelled</th><th scope=col>CancellationCode</th><th scope=col>Diverted</th><th scope=col>CarrierDelay</th><th scope=col>WeatherDelay</th><th scope=col>NASDelay</th><th scope=col>SecurityDelay</th><th scope=col>LateAircraftDelay</th></tr>\n",
       "\t<tr><th></th><th scope=col>&lt;int&gt;</th><th scope=col>&lt;int&gt;</th><th scope=col>&lt;int&gt;</th><th scope=col>&lt;int&gt;</th><th scope=col>&lt;int&gt;</th><th scope=col>&lt;int&gt;</th><th scope=col>&lt;int&gt;</th><th scope=col>&lt;int&gt;</th><th scope=col>&lt;chr&gt;</th><th scope=col>&lt;int&gt;</th><th scope=col>⋯</th><th scope=col>&lt;lgl&gt;</th><th scope=col>&lt;lgl&gt;</th><th scope=col>&lt;int&gt;</th><th scope=col>&lt;lgl&gt;</th><th scope=col>&lt;int&gt;</th><th scope=col>&lt;lgl&gt;</th><th scope=col>&lt;lgl&gt;</th><th scope=col>&lt;lgl&gt;</th><th scope=col>&lt;lgl&gt;</th><th scope=col>&lt;lgl&gt;</th></tr>\n",
       "</thead>\n",
       "<tbody>\n",
       "\t<tr><th scope=row>1</th><td>1987</td><td>10</td><td>14</td><td>3</td><td>741</td><td>730</td><td>912</td><td>849</td><td>PS</td><td>1451</td><td>⋯</td><td>NA</td><td>NA</td><td>0</td><td>NA</td><td>0</td><td>NA</td><td>NA</td><td>NA</td><td>NA</td><td>NA</td></tr>\n",
       "\t<tr><th scope=row>2</th><td>1987</td><td>10</td><td>15</td><td>4</td><td>729</td><td>730</td><td>903</td><td>849</td><td>PS</td><td>1451</td><td>⋯</td><td>NA</td><td>NA</td><td>0</td><td>NA</td><td>0</td><td>NA</td><td>NA</td><td>NA</td><td>NA</td><td>NA</td></tr>\n",
       "\t<tr><th scope=row>3</th><td>1987</td><td>10</td><td>17</td><td>6</td><td>741</td><td>730</td><td>918</td><td>849</td><td>PS</td><td>1451</td><td>⋯</td><td>NA</td><td>NA</td><td>0</td><td>NA</td><td>0</td><td>NA</td><td>NA</td><td>NA</td><td>NA</td><td>NA</td></tr>\n",
       "\t<tr><th scope=row>4</th><td>1987</td><td>10</td><td>18</td><td>7</td><td>729</td><td>730</td><td>847</td><td>849</td><td>PS</td><td>1451</td><td>⋯</td><td>NA</td><td>NA</td><td>0</td><td>NA</td><td>0</td><td>NA</td><td>NA</td><td>NA</td><td>NA</td><td>NA</td></tr>\n",
       "\t<tr><th scope=row>5</th><td>1987</td><td>10</td><td>19</td><td>1</td><td>749</td><td>730</td><td>922</td><td>849</td><td>PS</td><td>1451</td><td>⋯</td><td>NA</td><td>NA</td><td>0</td><td>NA</td><td>0</td><td>NA</td><td>NA</td><td>NA</td><td>NA</td><td>NA</td></tr>\n",
       "\t<tr><th scope=row>6</th><td>1987</td><td>10</td><td>21</td><td>3</td><td>728</td><td>730</td><td>848</td><td>849</td><td>PS</td><td>1451</td><td>⋯</td><td>NA</td><td>NA</td><td>0</td><td>NA</td><td>0</td><td>NA</td><td>NA</td><td>NA</td><td>NA</td><td>NA</td></tr>\n",
       "</tbody>\n",
       "</table>\n"
      ],
      "text/latex": [
       "A data.frame: 6 × 29\n",
       "\\begin{tabular}{r|lllllllllllllllllllll}\n",
       "  & Year & Month & DayofMonth & DayOfWeek & DepTime & CRSDepTime & ArrTime & CRSArrTime & UniqueCarrier & FlightNum & ⋯ & TaxiIn & TaxiOut & Cancelled & CancellationCode & Diverted & CarrierDelay & WeatherDelay & NASDelay & SecurityDelay & LateAircraftDelay\\\\\n",
       "  & <int> & <int> & <int> & <int> & <int> & <int> & <int> & <int> & <chr> & <int> & ⋯ & <lgl> & <lgl> & <int> & <lgl> & <int> & <lgl> & <lgl> & <lgl> & <lgl> & <lgl>\\\\\n",
       "\\hline\n",
       "\t1 & 1987 & 10 & 14 & 3 & 741 & 730 & 912 & 849 & PS & 1451 & ⋯ & NA & NA & 0 & NA & 0 & NA & NA & NA & NA & NA\\\\\n",
       "\t2 & 1987 & 10 & 15 & 4 & 729 & 730 & 903 & 849 & PS & 1451 & ⋯ & NA & NA & 0 & NA & 0 & NA & NA & NA & NA & NA\\\\\n",
       "\t3 & 1987 & 10 & 17 & 6 & 741 & 730 & 918 & 849 & PS & 1451 & ⋯ & NA & NA & 0 & NA & 0 & NA & NA & NA & NA & NA\\\\\n",
       "\t4 & 1987 & 10 & 18 & 7 & 729 & 730 & 847 & 849 & PS & 1451 & ⋯ & NA & NA & 0 & NA & 0 & NA & NA & NA & NA & NA\\\\\n",
       "\t5 & 1987 & 10 & 19 & 1 & 749 & 730 & 922 & 849 & PS & 1451 & ⋯ & NA & NA & 0 & NA & 0 & NA & NA & NA & NA & NA\\\\\n",
       "\t6 & 1987 & 10 & 21 & 3 & 728 & 730 & 848 & 849 & PS & 1451 & ⋯ & NA & NA & 0 & NA & 0 & NA & NA & NA & NA & NA\\\\\n",
       "\\end{tabular}\n"
      ],
      "text/markdown": [
       "\n",
       "A data.frame: 6 × 29\n",
       "\n",
       "| <!--/--> | Year &lt;int&gt; | Month &lt;int&gt; | DayofMonth &lt;int&gt; | DayOfWeek &lt;int&gt; | DepTime &lt;int&gt; | CRSDepTime &lt;int&gt; | ArrTime &lt;int&gt; | CRSArrTime &lt;int&gt; | UniqueCarrier &lt;chr&gt; | FlightNum &lt;int&gt; | ⋯ ⋯ | TaxiIn &lt;lgl&gt; | TaxiOut &lt;lgl&gt; | Cancelled &lt;int&gt; | CancellationCode &lt;lgl&gt; | Diverted &lt;int&gt; | CarrierDelay &lt;lgl&gt; | WeatherDelay &lt;lgl&gt; | NASDelay &lt;lgl&gt; | SecurityDelay &lt;lgl&gt; | LateAircraftDelay &lt;lgl&gt; |\n",
       "|---|---|---|---|---|---|---|---|---|---|---|---|---|---|---|---|---|---|---|---|---|---|\n",
       "| 1 | 1987 | 10 | 14 | 3 | 741 | 730 | 912 | 849 | PS | 1451 | ⋯ | NA | NA | 0 | NA | 0 | NA | NA | NA | NA | NA |\n",
       "| 2 | 1987 | 10 | 15 | 4 | 729 | 730 | 903 | 849 | PS | 1451 | ⋯ | NA | NA | 0 | NA | 0 | NA | NA | NA | NA | NA |\n",
       "| 3 | 1987 | 10 | 17 | 6 | 741 | 730 | 918 | 849 | PS | 1451 | ⋯ | NA | NA | 0 | NA | 0 | NA | NA | NA | NA | NA |\n",
       "| 4 | 1987 | 10 | 18 | 7 | 729 | 730 | 847 | 849 | PS | 1451 | ⋯ | NA | NA | 0 | NA | 0 | NA | NA | NA | NA | NA |\n",
       "| 5 | 1987 | 10 | 19 | 1 | 749 | 730 | 922 | 849 | PS | 1451 | ⋯ | NA | NA | 0 | NA | 0 | NA | NA | NA | NA | NA |\n",
       "| 6 | 1987 | 10 | 21 | 3 | 728 | 730 | 848 | 849 | PS | 1451 | ⋯ | NA | NA | 0 | NA | 0 | NA | NA | NA | NA | NA |\n",
       "\n"
      ],
      "text/plain": [
       "  Year Month DayofMonth DayOfWeek DepTime CRSDepTime ArrTime CRSArrTime\n",
       "1 1987 10    14         3         741     730        912     849       \n",
       "2 1987 10    15         4         729     730        903     849       \n",
       "3 1987 10    17         6         741     730        918     849       \n",
       "4 1987 10    18         7         729     730        847     849       \n",
       "5 1987 10    19         1         749     730        922     849       \n",
       "6 1987 10    21         3         728     730        848     849       \n",
       "  UniqueCarrier FlightNum ⋯ TaxiIn TaxiOut Cancelled CancellationCode Diverted\n",
       "1 PS            1451      ⋯ NA     NA      0         NA               0       \n",
       "2 PS            1451      ⋯ NA     NA      0         NA               0       \n",
       "3 PS            1451      ⋯ NA     NA      0         NA               0       \n",
       "4 PS            1451      ⋯ NA     NA      0         NA               0       \n",
       "5 PS            1451      ⋯ NA     NA      0         NA               0       \n",
       "6 PS            1451      ⋯ NA     NA      0         NA               0       \n",
       "  CarrierDelay WeatherDelay NASDelay SecurityDelay LateAircraftDelay\n",
       "1 NA           NA           NA       NA            NA               \n",
       "2 NA           NA           NA       NA            NA               \n",
       "3 NA           NA           NA       NA            NA               \n",
       "4 NA           NA           NA       NA            NA               \n",
       "5 NA           NA           NA       NA            NA               \n",
       "6 NA           NA           NA       NA            NA               "
      ]
     },
     "metadata": {},
     "output_type": "display_data"
    },
    {
     "data": {
      "text/plain": [
       "Time difference of 0.9787061 secs"
      ]
     },
     "metadata": {},
     "output_type": "display_data"
    }
   ],
   "source": [
    "start.time <- Sys.time()\n",
    "\n",
    "parquet_data <- arrow::read_parquet(\"/home/jovyan/R debugging/1987.parquet\")\n",
    "class(parquet_data)\n",
    "colnames(parquet_data)\n",
    "head(parquet_data)\n",
    "\n",
    "end.time <- Sys.time()\n",
    "time.taken <- end.time - start.time\n",
    "time.taken"
   ]
  },
  {
   "cell_type": "markdown",
   "id": "a5cca78f-33af-46b1-a3e2-f078b626b5d2",
   "metadata": {},
   "source": [
    "Etter å ha kjørt cellen over henger notebooken seg og det er ikke mulig å kjøre cellen under på første forsøk. Uansett hvor lenge man venter kjører fortsatt ikke koden. \n",
    "\n",
    "Om man derimot kjører den igjen fungerer det. Etter å ha kjørt cellen for tredje gang henger den seg også (løses ikke med å prøve å kjøre koden 10 ganger til)."
   ]
  },
  {
   "cell_type": "code",
   "execution_count": 2,
   "id": "89e65b0c-c972-42cc-91e3-91fe4aa23de9",
   "metadata": {},
   "outputs": [
    {
     "data": {
      "text/html": [
       "2"
      ],
      "text/latex": [
       "2"
      ],
      "text/markdown": [
       "2"
      ],
      "text/plain": [
       "[1] 2"
      ]
     },
     "metadata": {},
     "output_type": "display_data"
    }
   ],
   "source": [
    "1+1"
   ]
  },
  {
   "cell_type": "markdown",
   "id": "b9bbd60c-162f-4422-9624-b59321c15307",
   "metadata": {},
   "source": [
    "Selv om cellen ovenfor fortsatt ikke har kjørt [*] kjører cellen med print nedenfor på første forsøk. Etter å ha kjørt den igjen henger den seg. "
   ]
  },
  {
   "cell_type": "code",
   "execution_count": 3,
   "id": "0630ee9f-44e8-4242-834d-7933ec29fba0",
   "metadata": {},
   "outputs": [
    {
     "name": "stdout",
     "output_type": "stream",
     "text": [
      "[1] \"Har det hengt seg?\"\n"
     ]
    }
   ],
   "source": [
    "print(\"Har det hengt seg?\")"
   ]
  },
  {
   "cell_type": "code",
   "execution_count": 4,
   "id": "d2958e03-ef35-4ccc-85f9-524a0aaf6a3f",
   "metadata": {},
   "outputs": [],
   "source": [
    "start.time <- Sys.time()"
   ]
  },
  {
   "cell_type": "code",
   "execution_count": 5,
   "id": "4b9178be-10a5-4e73-aa3c-186472a05780",
   "metadata": {},
   "outputs": [],
   "source": [
    "parquet_data <- arrow::read_parquet(\"/home/jovyan/R debugging/1987.parquet\")"
   ]
  },
  {
   "cell_type": "code",
   "execution_count": 6,
   "id": "b1624c01-8eae-4475-b49a-baa71925cd94",
   "metadata": {},
   "outputs": [
    {
     "data": {
      "text/html": [
       "'data.frame'"
      ],
      "text/latex": [
       "'data.frame'"
      ],
      "text/markdown": [
       "'data.frame'"
      ],
      "text/plain": [
       "[1] \"data.frame\""
      ]
     },
     "metadata": {},
     "output_type": "display_data"
    }
   ],
   "source": [
    "class(parquet_data)"
   ]
  },
  {
   "cell_type": "code",
   "execution_count": 7,
   "id": "92d134a6-1203-4428-b7a9-a0375a1749af",
   "metadata": {},
   "outputs": [
    {
     "data": {
      "text/html": [
       "<style>\n",
       ".list-inline {list-style: none; margin:0; padding: 0}\n",
       ".list-inline>li {display: inline-block}\n",
       ".list-inline>li:not(:last-child)::after {content: \"\\00b7\"; padding: 0 .5ex}\n",
       "</style>\n",
       "<ol class=list-inline><li>'Year'</li><li>'Month'</li><li>'DayofMonth'</li><li>'DayOfWeek'</li><li>'DepTime'</li><li>'CRSDepTime'</li><li>'ArrTime'</li><li>'CRSArrTime'</li><li>'UniqueCarrier'</li><li>'FlightNum'</li><li>'TailNum'</li><li>'ActualElapsedTime'</li><li>'CRSElapsedTime'</li><li>'AirTime'</li><li>'ArrDelay'</li><li>'DepDelay'</li><li>'Origin'</li><li>'Dest'</li><li>'Distance'</li><li>'TaxiIn'</li><li>'TaxiOut'</li><li>'Cancelled'</li><li>'CancellationCode'</li><li>'Diverted'</li><li>'CarrierDelay'</li><li>'WeatherDelay'</li><li>'NASDelay'</li><li>'SecurityDelay'</li><li>'LateAircraftDelay'</li></ol>\n"
      ],
      "text/latex": [
       "\\begin{enumerate*}\n",
       "\\item 'Year'\n",
       "\\item 'Month'\n",
       "\\item 'DayofMonth'\n",
       "\\item 'DayOfWeek'\n",
       "\\item 'DepTime'\n",
       "\\item 'CRSDepTime'\n",
       "\\item 'ArrTime'\n",
       "\\item 'CRSArrTime'\n",
       "\\item 'UniqueCarrier'\n",
       "\\item 'FlightNum'\n",
       "\\item 'TailNum'\n",
       "\\item 'ActualElapsedTime'\n",
       "\\item 'CRSElapsedTime'\n",
       "\\item 'AirTime'\n",
       "\\item 'ArrDelay'\n",
       "\\item 'DepDelay'\n",
       "\\item 'Origin'\n",
       "\\item 'Dest'\n",
       "\\item 'Distance'\n",
       "\\item 'TaxiIn'\n",
       "\\item 'TaxiOut'\n",
       "\\item 'Cancelled'\n",
       "\\item 'CancellationCode'\n",
       "\\item 'Diverted'\n",
       "\\item 'CarrierDelay'\n",
       "\\item 'WeatherDelay'\n",
       "\\item 'NASDelay'\n",
       "\\item 'SecurityDelay'\n",
       "\\item 'LateAircraftDelay'\n",
       "\\end{enumerate*}\n"
      ],
      "text/markdown": [
       "1. 'Year'\n",
       "2. 'Month'\n",
       "3. 'DayofMonth'\n",
       "4. 'DayOfWeek'\n",
       "5. 'DepTime'\n",
       "6. 'CRSDepTime'\n",
       "7. 'ArrTime'\n",
       "8. 'CRSArrTime'\n",
       "9. 'UniqueCarrier'\n",
       "10. 'FlightNum'\n",
       "11. 'TailNum'\n",
       "12. 'ActualElapsedTime'\n",
       "13. 'CRSElapsedTime'\n",
       "14. 'AirTime'\n",
       "15. 'ArrDelay'\n",
       "16. 'DepDelay'\n",
       "17. 'Origin'\n",
       "18. 'Dest'\n",
       "19. 'Distance'\n",
       "20. 'TaxiIn'\n",
       "21. 'TaxiOut'\n",
       "22. 'Cancelled'\n",
       "23. 'CancellationCode'\n",
       "24. 'Diverted'\n",
       "25. 'CarrierDelay'\n",
       "26. 'WeatherDelay'\n",
       "27. 'NASDelay'\n",
       "28. 'SecurityDelay'\n",
       "29. 'LateAircraftDelay'\n",
       "\n",
       "\n"
      ],
      "text/plain": [
       " [1] \"Year\"              \"Month\"             \"DayofMonth\"       \n",
       " [4] \"DayOfWeek\"         \"DepTime\"           \"CRSDepTime\"       \n",
       " [7] \"ArrTime\"           \"CRSArrTime\"        \"UniqueCarrier\"    \n",
       "[10] \"FlightNum\"         \"TailNum\"           \"ActualElapsedTime\"\n",
       "[13] \"CRSElapsedTime\"    \"AirTime\"           \"ArrDelay\"         \n",
       "[16] \"DepDelay\"          \"Origin\"            \"Dest\"             \n",
       "[19] \"Distance\"          \"TaxiIn\"            \"TaxiOut\"          \n",
       "[22] \"Cancelled\"         \"CancellationCode\"  \"Diverted\"         \n",
       "[25] \"CarrierDelay\"      \"WeatherDelay\"      \"NASDelay\"         \n",
       "[28] \"SecurityDelay\"     \"LateAircraftDelay\""
      ]
     },
     "metadata": {},
     "output_type": "display_data"
    }
   ],
   "source": [
    "colnames(parquet_data)"
   ]
  },
  {
   "cell_type": "code",
   "execution_count": 8,
   "id": "46151fda-6f59-4865-837b-cc1a6f2e8298",
   "metadata": {},
   "outputs": [
    {
     "data": {
      "text/html": [
       "<table class=\"dataframe\">\n",
       "<caption>A data.frame: 6 × 29</caption>\n",
       "<thead>\n",
       "\t<tr><th></th><th scope=col>Year</th><th scope=col>Month</th><th scope=col>DayofMonth</th><th scope=col>DayOfWeek</th><th scope=col>DepTime</th><th scope=col>CRSDepTime</th><th scope=col>ArrTime</th><th scope=col>CRSArrTime</th><th scope=col>UniqueCarrier</th><th scope=col>FlightNum</th><th scope=col>⋯</th><th scope=col>TaxiIn</th><th scope=col>TaxiOut</th><th scope=col>Cancelled</th><th scope=col>CancellationCode</th><th scope=col>Diverted</th><th scope=col>CarrierDelay</th><th scope=col>WeatherDelay</th><th scope=col>NASDelay</th><th scope=col>SecurityDelay</th><th scope=col>LateAircraftDelay</th></tr>\n",
       "\t<tr><th></th><th scope=col>&lt;int&gt;</th><th scope=col>&lt;int&gt;</th><th scope=col>&lt;int&gt;</th><th scope=col>&lt;int&gt;</th><th scope=col>&lt;int&gt;</th><th scope=col>&lt;int&gt;</th><th scope=col>&lt;int&gt;</th><th scope=col>&lt;int&gt;</th><th scope=col>&lt;chr&gt;</th><th scope=col>&lt;int&gt;</th><th scope=col>⋯</th><th scope=col>&lt;lgl&gt;</th><th scope=col>&lt;lgl&gt;</th><th scope=col>&lt;int&gt;</th><th scope=col>&lt;lgl&gt;</th><th scope=col>&lt;int&gt;</th><th scope=col>&lt;lgl&gt;</th><th scope=col>&lt;lgl&gt;</th><th scope=col>&lt;lgl&gt;</th><th scope=col>&lt;lgl&gt;</th><th scope=col>&lt;lgl&gt;</th></tr>\n",
       "</thead>\n",
       "<tbody>\n",
       "\t<tr><th scope=row>1</th><td>1987</td><td>10</td><td>14</td><td>3</td><td>741</td><td>730</td><td>912</td><td>849</td><td>PS</td><td>1451</td><td>⋯</td><td>NA</td><td>NA</td><td>0</td><td>NA</td><td>0</td><td>NA</td><td>NA</td><td>NA</td><td>NA</td><td>NA</td></tr>\n",
       "\t<tr><th scope=row>2</th><td>1987</td><td>10</td><td>15</td><td>4</td><td>729</td><td>730</td><td>903</td><td>849</td><td>PS</td><td>1451</td><td>⋯</td><td>NA</td><td>NA</td><td>0</td><td>NA</td><td>0</td><td>NA</td><td>NA</td><td>NA</td><td>NA</td><td>NA</td></tr>\n",
       "\t<tr><th scope=row>3</th><td>1987</td><td>10</td><td>17</td><td>6</td><td>741</td><td>730</td><td>918</td><td>849</td><td>PS</td><td>1451</td><td>⋯</td><td>NA</td><td>NA</td><td>0</td><td>NA</td><td>0</td><td>NA</td><td>NA</td><td>NA</td><td>NA</td><td>NA</td></tr>\n",
       "\t<tr><th scope=row>4</th><td>1987</td><td>10</td><td>18</td><td>7</td><td>729</td><td>730</td><td>847</td><td>849</td><td>PS</td><td>1451</td><td>⋯</td><td>NA</td><td>NA</td><td>0</td><td>NA</td><td>0</td><td>NA</td><td>NA</td><td>NA</td><td>NA</td><td>NA</td></tr>\n",
       "\t<tr><th scope=row>5</th><td>1987</td><td>10</td><td>19</td><td>1</td><td>749</td><td>730</td><td>922</td><td>849</td><td>PS</td><td>1451</td><td>⋯</td><td>NA</td><td>NA</td><td>0</td><td>NA</td><td>0</td><td>NA</td><td>NA</td><td>NA</td><td>NA</td><td>NA</td></tr>\n",
       "\t<tr><th scope=row>6</th><td>1987</td><td>10</td><td>21</td><td>3</td><td>728</td><td>730</td><td>848</td><td>849</td><td>PS</td><td>1451</td><td>⋯</td><td>NA</td><td>NA</td><td>0</td><td>NA</td><td>0</td><td>NA</td><td>NA</td><td>NA</td><td>NA</td><td>NA</td></tr>\n",
       "</tbody>\n",
       "</table>\n"
      ],
      "text/latex": [
       "A data.frame: 6 × 29\n",
       "\\begin{tabular}{r|lllllllllllllllllllll}\n",
       "  & Year & Month & DayofMonth & DayOfWeek & DepTime & CRSDepTime & ArrTime & CRSArrTime & UniqueCarrier & FlightNum & ⋯ & TaxiIn & TaxiOut & Cancelled & CancellationCode & Diverted & CarrierDelay & WeatherDelay & NASDelay & SecurityDelay & LateAircraftDelay\\\\\n",
       "  & <int> & <int> & <int> & <int> & <int> & <int> & <int> & <int> & <chr> & <int> & ⋯ & <lgl> & <lgl> & <int> & <lgl> & <int> & <lgl> & <lgl> & <lgl> & <lgl> & <lgl>\\\\\n",
       "\\hline\n",
       "\t1 & 1987 & 10 & 14 & 3 & 741 & 730 & 912 & 849 & PS & 1451 & ⋯ & NA & NA & 0 & NA & 0 & NA & NA & NA & NA & NA\\\\\n",
       "\t2 & 1987 & 10 & 15 & 4 & 729 & 730 & 903 & 849 & PS & 1451 & ⋯ & NA & NA & 0 & NA & 0 & NA & NA & NA & NA & NA\\\\\n",
       "\t3 & 1987 & 10 & 17 & 6 & 741 & 730 & 918 & 849 & PS & 1451 & ⋯ & NA & NA & 0 & NA & 0 & NA & NA & NA & NA & NA\\\\\n",
       "\t4 & 1987 & 10 & 18 & 7 & 729 & 730 & 847 & 849 & PS & 1451 & ⋯ & NA & NA & 0 & NA & 0 & NA & NA & NA & NA & NA\\\\\n",
       "\t5 & 1987 & 10 & 19 & 1 & 749 & 730 & 922 & 849 & PS & 1451 & ⋯ & NA & NA & 0 & NA & 0 & NA & NA & NA & NA & NA\\\\\n",
       "\t6 & 1987 & 10 & 21 & 3 & 728 & 730 & 848 & 849 & PS & 1451 & ⋯ & NA & NA & 0 & NA & 0 & NA & NA & NA & NA & NA\\\\\n",
       "\\end{tabular}\n"
      ],
      "text/markdown": [
       "\n",
       "A data.frame: 6 × 29\n",
       "\n",
       "| <!--/--> | Year &lt;int&gt; | Month &lt;int&gt; | DayofMonth &lt;int&gt; | DayOfWeek &lt;int&gt; | DepTime &lt;int&gt; | CRSDepTime &lt;int&gt; | ArrTime &lt;int&gt; | CRSArrTime &lt;int&gt; | UniqueCarrier &lt;chr&gt; | FlightNum &lt;int&gt; | ⋯ ⋯ | TaxiIn &lt;lgl&gt; | TaxiOut &lt;lgl&gt; | Cancelled &lt;int&gt; | CancellationCode &lt;lgl&gt; | Diverted &lt;int&gt; | CarrierDelay &lt;lgl&gt; | WeatherDelay &lt;lgl&gt; | NASDelay &lt;lgl&gt; | SecurityDelay &lt;lgl&gt; | LateAircraftDelay &lt;lgl&gt; |\n",
       "|---|---|---|---|---|---|---|---|---|---|---|---|---|---|---|---|---|---|---|---|---|---|\n",
       "| 1 | 1987 | 10 | 14 | 3 | 741 | 730 | 912 | 849 | PS | 1451 | ⋯ | NA | NA | 0 | NA | 0 | NA | NA | NA | NA | NA |\n",
       "| 2 | 1987 | 10 | 15 | 4 | 729 | 730 | 903 | 849 | PS | 1451 | ⋯ | NA | NA | 0 | NA | 0 | NA | NA | NA | NA | NA |\n",
       "| 3 | 1987 | 10 | 17 | 6 | 741 | 730 | 918 | 849 | PS | 1451 | ⋯ | NA | NA | 0 | NA | 0 | NA | NA | NA | NA | NA |\n",
       "| 4 | 1987 | 10 | 18 | 7 | 729 | 730 | 847 | 849 | PS | 1451 | ⋯ | NA | NA | 0 | NA | 0 | NA | NA | NA | NA | NA |\n",
       "| 5 | 1987 | 10 | 19 | 1 | 749 | 730 | 922 | 849 | PS | 1451 | ⋯ | NA | NA | 0 | NA | 0 | NA | NA | NA | NA | NA |\n",
       "| 6 | 1987 | 10 | 21 | 3 | 728 | 730 | 848 | 849 | PS | 1451 | ⋯ | NA | NA | 0 | NA | 0 | NA | NA | NA | NA | NA |\n",
       "\n"
      ],
      "text/plain": [
       "  Year Month DayofMonth DayOfWeek DepTime CRSDepTime ArrTime CRSArrTime\n",
       "1 1987 10    14         3         741     730        912     849       \n",
       "2 1987 10    15         4         729     730        903     849       \n",
       "3 1987 10    17         6         741     730        918     849       \n",
       "4 1987 10    18         7         729     730        847     849       \n",
       "5 1987 10    19         1         749     730        922     849       \n",
       "6 1987 10    21         3         728     730        848     849       \n",
       "  UniqueCarrier FlightNum ⋯ TaxiIn TaxiOut Cancelled CancellationCode Diverted\n",
       "1 PS            1451      ⋯ NA     NA      0         NA               0       \n",
       "2 PS            1451      ⋯ NA     NA      0         NA               0       \n",
       "3 PS            1451      ⋯ NA     NA      0         NA               0       \n",
       "4 PS            1451      ⋯ NA     NA      0         NA               0       \n",
       "5 PS            1451      ⋯ NA     NA      0         NA               0       \n",
       "6 PS            1451      ⋯ NA     NA      0         NA               0       \n",
       "  CarrierDelay WeatherDelay NASDelay SecurityDelay LateAircraftDelay\n",
       "1 NA           NA           NA       NA            NA               \n",
       "2 NA           NA           NA       NA            NA               \n",
       "3 NA           NA           NA       NA            NA               \n",
       "4 NA           NA           NA       NA            NA               \n",
       "5 NA           NA           NA       NA            NA               \n",
       "6 NA           NA           NA       NA            NA               "
      ]
     },
     "metadata": {},
     "output_type": "display_data"
    }
   ],
   "source": [
    "head(parquet_data)"
   ]
  },
  {
   "cell_type": "code",
   "execution_count": 9,
   "id": "8c0d04d2-d172-4545-a911-a5c77e787898",
   "metadata": {},
   "outputs": [
    {
     "data": {
      "text/plain": [
       "Time difference of 0.8327889 secs"
      ]
     },
     "metadata": {},
     "output_type": "display_data"
    }
   ],
   "source": [
    "end.time <- Sys.time()\n",
    "time.taken <- end.time - start.time\n",
    "time.taken"
   ]
  }
 ],
 "metadata": {
  "kernelspec": {
   "display_name": "SparkR (local)",
   "language": "R",
   "name": "ir"
  },
  "language_info": {
   "codemirror_mode": "r",
   "file_extension": ".r",
   "mimetype": "text/x-r-source",
   "name": "R",
   "pygments_lexer": "r",
   "version": "4.2.1"
  }
 },
 "nbformat": 4,
 "nbformat_minor": 5
}
