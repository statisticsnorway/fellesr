{
 "cells": [
  {
   "cell_type": "markdown",
   "id": "a16f4ec3-bdd3-4d1f-96ee-3db2e1c471bd",
   "metadata": {},
   "source": [
    "# R DAPLA debugging"
   ]
  },
  {
   "cell_type": "markdown",
   "id": "950bc108-fb77-42cf-9652-7647af461d8a",
   "metadata": {},
   "source": [
    "Dersom man starter en ny økt med SparkR (local) kjører all koden i cellen nedenfor veldig raskt (0.9751236 secs).\n",
    "\n",
    "Ved å trykke \"Restart kernel and run all cells\" kjører også alle cellene i notebooken uten å henge seg. "
   ]
  },
  {
   "cell_type": "code",
   "execution_count": null,
   "id": "3643fe1a-842c-4d4f-a2f0-6b8c8d13f2f9",
   "metadata": {},
   "outputs": [],
   "source": [
    "start.time <- Sys.time()\n",
    "\n",
    "parquet_data <- arrow::read_parquet(\"/home/jovyan/R debugging/1987.parquet\")\n",
    "class(parquet_data)\n",
    "colnames(parquet_data)\n",
    "head(parquet_data)\n",
    "\n",
    "end.time <- Sys.time()\n",
    "time.taken <- end.time - start.time\n",
    "time.taken"
   ]
  },
  {
   "cell_type": "markdown",
   "id": "a5cca78f-33af-46b1-a3e2-f078b626b5d2",
   "metadata": {},
   "source": [
    "Etter å ha kjørt cellen over henger notebooken seg og det er ikke mulig å kjøre cellen under på første forsøk. Uansett hvor lenge man venter kjører fortsatt ikke koden. \n",
    "\n",
    "Om man derimot kjører den igjen fungerer det. Etter å ha kjørt cellen for tredje gang henger den seg også (løses ikke med å prøve å kjøre koden 10 ganger til)."
   ]
  },
  {
   "cell_type": "code",
   "execution_count": null,
   "id": "89e65b0c-c972-42cc-91e3-91fe4aa23de9",
   "metadata": {},
   "outputs": [],
   "source": [
    "1+1"
   ]
  },
  {
   "cell_type": "markdown",
   "id": "b9bbd60c-162f-4422-9624-b59321c15307",
   "metadata": {},
   "source": [
    "Selv om cellen ovenfor fortsatt ikke har kjørt [*] kjører cellen med print nedenfor på første forsøk. Etter å ha kjørt den igjen henger den seg. "
   ]
  },
  {
   "cell_type": "code",
   "execution_count": null,
   "id": "0630ee9f-44e8-4242-834d-7933ec29fba0",
   "metadata": {},
   "outputs": [],
   "source": [
    "print(\"Har det hengt seg?\")"
   ]
  },
  {
   "cell_type": "code",
   "execution_count": null,
   "id": "d2958e03-ef35-4ccc-85f9-524a0aaf6a3f",
   "metadata": {},
   "outputs": [],
   "source": [
    "start.time <- Sys.time()"
   ]
  },
  {
   "cell_type": "code",
   "execution_count": null,
   "id": "4b9178be-10a5-4e73-aa3c-186472a05780",
   "metadata": {},
   "outputs": [],
   "source": [
    "parquet_data <- arrow::read_parquet(\"/home/jovyan/R debugging/1987.parquet\")"
   ]
  },
  {
   "cell_type": "code",
   "execution_count": null,
   "id": "b1624c01-8eae-4475-b49a-baa71925cd94",
   "metadata": {},
   "outputs": [],
   "source": [
    "class(parquet_data)"
   ]
  },
  {
   "cell_type": "code",
   "execution_count": null,
   "id": "92d134a6-1203-4428-b7a9-a0375a1749af",
   "metadata": {},
   "outputs": [],
   "source": [
    "colnames(parquet_data)"
   ]
  },
  {
   "cell_type": "code",
   "execution_count": null,
   "id": "46151fda-6f59-4865-837b-cc1a6f2e8298",
   "metadata": {},
   "outputs": [],
   "source": [
    "head(parquet_data)"
   ]
  },
  {
   "cell_type": "code",
   "execution_count": null,
   "id": "8c0d04d2-d172-4545-a911-a5c77e787898",
   "metadata": {},
   "outputs": [],
   "source": [
    "end.time <- Sys.time()\n",
    "time.taken <- end.time - start.time\n",
    "time.taken"
   ]
  }
 ],
 "metadata": {
  "language_info": {
   "codemirror_mode": "r",
   "file_extension": ".r",
   "mimetype": "text/x-r-source",
   "name": "R"
  }
 },
 "nbformat": 4,
 "nbformat_minor": 5
}
