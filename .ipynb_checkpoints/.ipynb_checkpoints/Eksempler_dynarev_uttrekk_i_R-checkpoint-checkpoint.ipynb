{
 "cells": [
  {
   "cell_type": "markdown",
   "id": "78d33a15-439c-4dd6-b364-cb34bdb16537",
   "metadata": {},
   "source": [
    "## Uttrekk fra Dynarev til R\n",
    "\n",
    "dynarev_uttrekk er en funksjon som henter inn data fra Dynarev til R så lenge man oppgir delreg_nr, skjemanavn og enhets_type. dynarev_uttrekk finnes i pakken dynarevtoR som er installert i RStudio på Linux og i Jupyterlab i produksjonssonen."
   ]
  },
  {
   "cell_type": "code",
   "execution_count": null,
   "id": "f830a3f3-a9e8-4b38-b541-a15b1f53544f",
   "metadata": {},
   "outputs": [],
   "source": [
    "library(fellesr)"
   ]
  },
  {
   "cell_type": "raw",
   "id": "d6b540df-556b-4197-b2d0-1d7072b0f3f8",
   "metadata": {},
   "source": [
    "dynarev <- dynarev_uttrekk(delregnr = num,               # Må oppgis\n",
    "                            skjema = \"char\",             # Må oppgis\n",
    "                            enhets_type = \"char\",        # Må oppgis\n",
    "                            skjema_cols = boolsk/liste,  # Default = TRUE\n",
    "                            sfu_cols = boolsk/liste,     # Default = FALSE\n",
    "                            skjema_sfu_merge = boolsk,   # Default = FALSE\n",
    "                            dublettsjekk = boolsk/liste, # Default = FALSE\n",
    "                            con_ask = boolsk/\"con\",      # Default = TRUE\n",
    "                            raadata = boolsk)            # Default = FALSE"
   ]
  },
  {
   "cell_type": "markdown",
   "id": "432aa614-8044-4a19-b7d1-4ae6b0987d46",
   "metadata": {},
   "source": [
    "### Parametre\n",
    "**delregnr** : Velg delregisternummer <br />\n",
    "**skjema** : Velg skjemanavn <br />\n",
    "**enhets_type** : Velg enhetstype fra Dynarev (f.eks. BEDR eller FRTK) <br />\n",
    "**skjema_cols** : Velg kolonner fra skjemadata. Hvis TRUE henter du alle variabler. Hvis FALSE henter du ikke skjemadata, kun SFU-data (hvis sfu_cols = TRUE). Det er også mulig å lage en vektor/liste av variabelnavn, f.eks. c(\"variabel1\", \"variabel2\"), dersom du kun vil ha valgte variabler.  <br />\n",
    "**sfu_cols** : Hvis TRUE blir alle variabler fra SFU for valgt delreg og skjema inkludert. For å kun velge én eller flere variabler fra SFU skrives disse i en vektor, f.eks. c(\"variabel1\", \"variabel2\"). <br />\n",
    "**skjema_sfu_merge** : Om man henter skjemadata og SFU samtidig blir dataene merget hvis TRUE. Dersom FALSE blir dataene hentet som to separate datasett i en liste; [1] skjemadata og [2] SFU-data.  <br />\n",
    "**dublettsjekk** : Hvis TRUE sjekkes det for dubletter i skjemadata etter ENHETS_ID. Dersom man ønsker å sjekke for dubletter etter én eller flere selvvalgte variabler skrives disse i en vektor, f.eks. c(\"variabel1\", \"variabel2\"). Liste med to datasett returneres; [1] skjemadata og [2] dublettdata (dersom det finnes dubletter, hvis ikke er denne blank). <br />\n",
    "**con_ask** : Hvis TRUE får man opp en boks som spør etter Oracle-passord. Hvis FALSE spørres det ikke om passord. Ved å skrive dynarev_uttrekk(con_ask = \"con\") får man opp en boks som spør etter Oracle-passord og kun passord blir returnert. Denne kan brukes dersom man skal lese inn flere skjema etter hverandre for å unngå å skrive inn passordet flere ganger. <br />\n",
    "**raadata** : Hvis FALSE returneres reviderte data fra FELT_VERDI, TRUE returnerer rådata."
   ]
  },
  {
   "cell_type": "markdown",
   "id": "ee7ea991-e04e-4fa6-b9ab-04f110a9b7c5",
   "metadata": {},
   "source": [
    "Dokumentasjon for funksjonen dynarev_uttrekk (med eksempler) finnes også i pakken og kan kalles på ved å skrive inn: "
   ]
  },
  {
   "cell_type": "code",
   "execution_count": null,
   "id": "8148b581-7bc3-4e72-9009-2b9af148b4b0",
   "metadata": {},
   "outputs": [],
   "source": [
    "?dynarev_uttrekk"
   ]
  },
  {
   "cell_type": "markdown",
   "id": "5726eda8-2342-48ed-969e-d4715fdc71b2",
   "metadata": {},
   "source": [
    "## Eksempler\n",
    "\n",
    "Her skriver man sitt eget delregnr, skjema og enhets_type som brukes i eksemplene nedenfor. "
   ]
  },
  {
   "cell_type": "code",
   "execution_count": null,
   "id": "33764528-b5d2-4cad-b556-291fed9a8726",
   "metadata": {},
   "outputs": [],
   "source": [
    "delregnr <- 2420\n",
    "skjema <- \"HELSE41\"\n",
    "enhets_type <- \"FRTK\""
   ]
  },
  {
   "cell_type": "markdown",
   "id": "553cae4f-ce67-4c13-a75f-b67ef3592514",
   "metadata": {},
   "source": [
    "### dynarev_uttrekk() uten argumenter \n",
    "\n",
    "Det er mulig å bruke funksjonen uten å skrive inn noen argumenter. Man blir da bedt om å skrive inn skjemanavn, delregnr og enhets_type. Alle kolonnene fra skjemadata blir med."
   ]
  },
  {
   "cell_type": "code",
   "execution_count": null,
   "id": "fca7f0c6-fe02-4af2-afd9-9977d87e681b",
   "metadata": {},
   "outputs": [],
   "source": [
    "dynarev <- fellesr::dynarev_uttrekk()\n",
    "head(dynarev)"
   ]
  },
  {
   "cell_type": "markdown",
   "id": "e26d6853-1efa-4cfd-ba29-c59a24c4a727",
   "metadata": {},
   "source": [
    "### Kun skjema_cols\n",
    "\n",
    "Her får man lastet inn alle kolonnene fra valgt skjema."
   ]
  },
  {
   "cell_type": "code",
   "execution_count": null,
   "id": "db317376-df8a-413e-aaab-05e0a137687b",
   "metadata": {},
   "outputs": [],
   "source": [
    "dynarev <- fellesr::dynarev_uttrekk(delregnr = delregnr, \n",
    "                           skjema = skjema, \n",
    "                           skjema_cols = T,\n",
    "                           enhets_type = enhets_type)\n",
    "\n",
    "paste0(\"Antall rader: \", nrow(dynarev))\n",
    "paste0(\"Antall kolonner: \", length(colnames(dynarev)))\n",
    "\n",
    "head(dynarev)"
   ]
  },
  {
   "cell_type": "markdown",
   "id": "75179313-91ae-408e-acb1-b676898efdc0",
   "metadata": {},
   "source": [
    "### Kun skjema_cols, utvalgte variabler\n",
    "\n",
    "Her får man lastet ned utvalgte kolonner fra valgt skjema. Her er AARGANG, FORETAKETS_NAVN og FORETAKETS_ORGNR valgt."
   ]
  },
  {
   "cell_type": "code",
   "execution_count": null,
   "id": "6336771e-52aa-4c74-a500-00d0be16443f",
   "metadata": {},
   "outputs": [],
   "source": [
    "dynarev <- fellesr::dynarev_uttrekk(delregnr = delregnr, \n",
    "                           skjema = skjema, \n",
    "                           skjema_cols = c(\"AARGANG\", \"FORETAKETS_NAVN\", \"FORETAKETS_ORGNR\"), \n",
    "                           enhets_type = enhets_type)\n",
    "\n",
    "paste0(\"Antall rader: \", nrow(dynarev))\n",
    "paste0(\"Antall kolonner: \", length(colnames(dynarev)))\n",
    "\n",
    "head(dynarev)"
   ]
  },
  {
   "cell_type": "markdown",
   "id": "99310555-c103-45c2-bbab-5ea7ce70862a",
   "metadata": {},
   "source": [
    "### Kun sfu_cols\n",
    "\n",
    "Her får man lastet ned alle kolonnene med SFU-data fra valgt skjema. "
   ]
  },
  {
   "cell_type": "code",
   "execution_count": null,
   "id": "4df8cf14-0aeb-433e-b48f-38f1a92e8b73",
   "metadata": {},
   "outputs": [],
   "source": [
    "dynarev <- fellesr::dynarev_uttrekk(delregnr = delregnr, \n",
    "                           skjema = skjema, \n",
    "                           skjema_cols = F,\n",
    "                           enhets_type = enhets_type, \n",
    "                           sfu_cols = T)\n",
    "\n",
    "paste0(\"Antall rader: \", nrow(dynarev))\n",
    "paste0(\"Antall kolonner: \", length(colnames(dynarev)))\n",
    "\n",
    "head(dynarev)"
   ]
  },
  {
   "cell_type": "markdown",
   "id": "1ea301da-ec62-4c76-89a3-1e990cf623fd",
   "metadata": {},
   "source": [
    "### Kun sfu_cols, utvalgte variabler\n",
    "\n",
    "Her får man lastet ned valgte kolonnenee med SFU-data fra valgt skjema. Her er NAVN og ORGNR valgt."
   ]
  },
  {
   "cell_type": "code",
   "execution_count": null,
   "id": "4516fa61-6eda-4ca5-b2e1-9823db63c949",
   "metadata": {},
   "outputs": [],
   "source": [
    "dynarev <- fellesr::dynarev_uttrekk(delregnr = delregnr, \n",
    "                           skjema = skjema, \n",
    "                           skjema_cols = F,\n",
    "                           enhets_type = enhets_type, \n",
    "                           dublettsjekk = F,\n",
    "                           sfu_cols = c(\"NAVN\", \"ORGNR\"))\n",
    "\n",
    "paste0(\"Antall rader: \", nrow(dynarev))\n",
    "paste0(\"Antall kolonner: \", length(colnames(dynarev)))\n",
    "\n",
    "head(dynarev)"
   ]
  },
  {
   "cell_type": "markdown",
   "id": "b57dc865-2672-4437-9631-63650c29b77e",
   "metadata": {},
   "source": [
    "### Kun sfu_cols, alle skjema\n",
    "\n",
    "Her får man lastet ned alle kolonnene med SFU-data fra alle skjema i valgt delregister. Dersom man kun ønsker utvalgt variabler fra SFU-data erstattes sfu_cols = T med sfu_cols = c(\"NAVN\", \"ORGNR\")."
   ]
  },
  {
   "cell_type": "code",
   "execution_count": null,
   "id": "07f76a02-cd57-4be6-8b41-09aa7fda2329",
   "metadata": {},
   "outputs": [],
   "source": [
    "dynarev <- fellesr::dynarev_uttrekk(delregnr = delregnr, \n",
    "                           skjema = T, \n",
    "                           skjema_cols = F,\n",
    "                           enhets_type = enhets_type, \n",
    "                           sfu_cols = T)\n",
    "                         \n",
    "paste0(\"Antall rader: \", nrow(dynarev))\n",
    "paste0(\"Antall kolonner: \", length(colnames(dynarev)))\n",
    "\n",
    "head(dynarev)"
   ]
  },
  {
   "cell_type": "markdown",
   "id": "d018708c-7bee-4610-8aa2-2bf8ce69f847",
   "metadata": {},
   "source": [
    "### Både sfu_cols og skjema_cols\n",
    "\n",
    "Her får man lastet ned både skjemadata (alle kolonner) og SFU-data (alle kolonner) fra valgt delregister. Objektet dynarev inneholder her altså to datasett. For å få hentet ut skjemadata skriver man dynarev_skjema <- data.frame(dynarev[1]) og for å hente ut SFU-data skriver man dynarev_sfu <- data.frame(dynarev[2])."
   ]
  },
  {
   "cell_type": "code",
   "execution_count": null,
   "id": "9dca3912-c3e0-4a16-9e63-8f08103418cf",
   "metadata": {},
   "outputs": [],
   "source": [
    "dynarev <- fellesr::dynarev_uttrekk(delregnr = delregnr, \n",
    "                           skjema = skjema,\n",
    "                           skjema_cols = T,\n",
    "                           enhets_type = enhets_type,\n",
    "                           sfu_cols = T)\n",
    "\n",
    "dynarev_skjema <- data.frame(dynarev[1])\n",
    "dynarev_sfu <- data.frame(dynarev[2])\n",
    "\n",
    "paste0(\"Antall rader: \", nrow(dynarev_skjema))\n",
    "paste0(\"Antall kolonner: \", length(colnames(dynarev_skjema)))\n",
    "\n",
    "paste0(\"Antall rader: \", nrow(dynarev_sfu))\n",
    "paste0(\"Antall kolonner: \", length(colnames(dynarev_sfu)))\n",
    "\n",
    "head(dynarev_skjema)\n",
    "head(dynarev_sfu)"
   ]
  },
  {
   "cell_type": "markdown",
   "id": "e01f84bc-f308-4e44-a5ce-f03c6d37ab13",
   "metadata": {},
   "source": [
    "### Både sfu_cols (utvalgte variabler) og skjema_cols\n",
    "\n",
    "Her får man lastet ned både skjemadata (alle kolonner) og SFU-data (utvalgte kolonner, her NAVN og ORGNR) fra valgt delregister. Objektet dynarev inneholder her altså to datasett. For å få hentet ut skjemadata skriver man dynarev_skjema <- data.frame(dynarev[1]) og for å hente ut SFU-data skriver man dynarev_sfu <- data.frame(dynarev[2])."
   ]
  },
  {
   "cell_type": "code",
   "execution_count": null,
   "id": "7fe708f7-184d-4c2b-b93c-eaa1376bc75f",
   "metadata": {},
   "outputs": [],
   "source": [
    "dynarev <- fellesr::dynarev_uttrekk(delregnr = delregnr, \n",
    "                           skjema = skjema, \n",
    "                           skjema_cols = T,\n",
    "                           enhets_type = enhets_type, \n",
    "                           sfu_cols = c(\"NAVN\", \"ORGNR\"))\n",
    "\n",
    "dynarev_skjema <- data.frame(dynarev[1])\n",
    "dynarev_sfu <- data.frame(dynarev[2])\n",
    "\n",
    "paste0(\"Antall rader: \", nrow(dynarev_skjema))\n",
    "paste0(\"Antall kolonner: \", length(colnames(dynarev_skjema)))\n",
    "\n",
    "paste0(\"Antall rader: \", nrow(dynarev_sfu))\n",
    "paste0(\"Antall kolonner: \", length(colnames(dynarev_sfu)))\n",
    "\n",
    "head(dynarev_skjema)\n",
    "head(dynarev_sfu)"
   ]
  },
  {
   "cell_type": "markdown",
   "id": "ffdc0262-9209-491f-8068-2d59dae76474",
   "metadata": {
    "tags": []
   },
   "source": [
    "### Både sfu_cols (utvalgte variabler) og skjema_cols (utvalgte variabler)\n",
    "\n",
    "Her får man lastet ned både skjemadata (utvalgte kolonner, her AARGANG, FORETAKETS_NAVN og FORETAKETS_ORGNR) og SFU-data (utvalgte kolonner, her NAVN og ORGNR) fra valgt delregister. Objektet dynarev inneholder her altså to datasett. For å få hentet ut skjemadata skriver man dynarev_skjema <- data.frame(dynarev[1]) og for å hente ut SFU-data skriver man dynarev_sfu <- data.frame(dynarev[2])."
   ]
  },
  {
   "cell_type": "code",
   "execution_count": null,
   "id": "26eacbc4-3d57-435f-8523-1726b6ff05c8",
   "metadata": {},
   "outputs": [],
   "source": [
    "dynarev <- fellesr::dynarev_uttrekk(delregnr = delregnr, \n",
    "                           skjema = skjema, \n",
    "                           skjema_cols = c(\"AARGANG\", \"FORETAKETS_NAVN\", \"FORETAKETS_ORGNR\"),\n",
    "                           enhets_type = enhets_type,\n",
    "                           sfu_cols = c(\"NAVN\", \"ORGNR\"))\n",
    "\n",
    "dynarev_skjema <- data.frame(dynarev[1])\n",
    "dynarev_sfu <- data.frame(dynarev[2])\n",
    "\n",
    "paste0(\"Antall rader: \", nrow(dynarev_skjema))\n",
    "paste0(\"Antall kolonner: \", length(colnames(dynarev_skjema)))\n",
    "\n",
    "paste0(\"Antall rader: \", nrow(dynarev_sfu))\n",
    "paste0(\"Antall kolonner: \", length(colnames(dynarev_sfu)))\n",
    "\n",
    "head(dynarev_skjema)\n",
    "head(dynarev_sfu)"
   ]
  },
  {
   "cell_type": "markdown",
   "id": "7eaa3f04-5c7d-4a84-a7bb-2c17697e9ad7",
   "metadata": {},
   "source": [
    "### Både sfu_cols og skjema_cols - MERGE\n",
    "\n",
    "Her får man lastet ned både skjemadata (alle kolonner) og SFU-data (alle kolonner) fra valgt delregister. SFU-dataene blir koblet på skjemadataene slik at man kun får én fil."
   ]
  },
  {
   "cell_type": "code",
   "execution_count": null,
   "id": "b5793a67-d58b-43bc-b490-82e1aa646f95",
   "metadata": {},
   "outputs": [],
   "source": [
    "dynarev <- fellesr::dynarev_uttrekk(delregnr = delregnr, \n",
    "                           skjema = skjema, \n",
    "                           skjema_cols = T,\n",
    "                           skjema_sfu_merge = T,\n",
    "                           enhets_type = enhets_type, \n",
    "                           sfu_cols = T)\n",
    "\n",
    "paste0(\"Antall rader: \", nrow(dynarev))\n",
    "paste0(\"Antall kolonner: \", length(colnames(dynarev)))\n",
    "\n",
    "head(dynarev)"
   ]
  },
  {
   "cell_type": "markdown",
   "id": "b336e6e9-3143-4c4f-b778-3364e43e8a55",
   "metadata": {},
   "source": [
    "### Både sfu_cols (utvalgte variabler) og skjema_cols - MERGE\n",
    "\n",
    "Her får man lastet ned både skjemadata (alle kolonner) og SFU-data (utvalgte kolonner, her NAVN og ORGNR) fra valgt delregister. SFU-dataene blir koblet på skjemadataene slik at man kun får én fil."
   ]
  },
  {
   "cell_type": "code",
   "execution_count": null,
   "id": "fb4df2c0-3d1e-4497-8ae4-acd0274f8135",
   "metadata": {},
   "outputs": [],
   "source": [
    "dynarev <- fellesr::dynarev_uttrekk(delregnr = delregnr, \n",
    "                           skjema = skjema, \n",
    "                           skjema_cols = T,\n",
    "                           skjema_sfu_merge = T,\n",
    "                           enhets_type = enhets_type, \n",
    "                           sfu_cols = c(\"NAVN\", \"ORGNR\"))\n",
    "\n",
    "paste0(\"Antall rader: \", nrow(dynarev))\n",
    "paste0(\"Antall kolonner: \", length(colnames(dynarev)))\n",
    "\n",
    "head(dynarev)"
   ]
  },
  {
   "cell_type": "markdown",
   "id": "3b90c788-3f3f-459f-862a-d97033d66d0d",
   "metadata": {},
   "source": [
    "### Både sfu_cols (utvalgte variabler) og skjema_cols (utvalgte variabler) - MERGE\n",
    "\n",
    "Her får man lastet ned både skjemadata (utvalgte kolonner, her AARGANG, FORETAKETS_NAVN og FORETAKETS_ORGNR) og SFU-data (utvalgte kolonner, her NAVN og ORGNR) fra valgt delregister. SFU-dataene blir koblet på skjemadataene slik at man kun får én fil."
   ]
  },
  {
   "cell_type": "code",
   "execution_count": null,
   "id": "a566ed98-2466-4d19-bb2a-2acac83881eb",
   "metadata": {},
   "outputs": [],
   "source": [
    "dynarev <- fellesr::dynarev_uttrekk(delregnr = delregnr, \n",
    "                           skjema = skjema, \n",
    "                           skjema_cols = c(\"AARGANG\", \"FORETAKETS_NAVN\", \"FORETAKETS_ORGNR\"),\n",
    "                           skjema_sfu_merge = T,\n",
    "                           enhets_type = enhets_type, \n",
    "                           sfu_cols = c(\"NAVN\", \"ORGNR\"))\n",
    "\n",
    "paste0(\"Antall rader: \", nrow(dynarev))\n",
    "paste0(\"Antall kolonner: \", length(colnames(dynarev)))\n",
    "\n",
    "head(dynarev)"
   ]
  },
  {
   "cell_type": "markdown",
   "id": "c1bd813b-2379-4d99-82b4-800e7553d09d",
   "metadata": {},
   "source": [
    "### DUBLETTSJEKK (skjema_cols)\n",
    "\n",
    "Her får man testet for dubletter (etter ENHETS_ID) i skjemadata. Liste med to datasett returneres; [1] skjemadata og [2] dublettdata (dersom det finnes dubletter, hvis ikke er denne blank)."
   ]
  },
  {
   "cell_type": "code",
   "execution_count": null,
   "id": "d7540042-1a50-4d1d-9c86-2ddf776836b1",
   "metadata": {},
   "outputs": [],
   "source": [
    "dynarev <- fellesr::dynarev_uttrekk(delregnr = 2421, \n",
    "                           skjema = \"HELSE39\",\n",
    "                           enhets_type = \"BEDR\", \n",
    "                           dublettsjekk = T)\n",
    "\n",
    "dynarev_skjema <- data.frame(dynarev[1])\n",
    "dynarev_dubletter <- data.frame(dynarev[2])\n",
    "\n",
    "paste0(\"Antall rader dynarev_skjema: \", nrow(dynarev_skjema))\n",
    "paste0(\"Antall kolonner dynarev_skjema: \", length(colnames(dynarev_skjema)))\n",
    "\n",
    "paste0(\"Antall rader dynarev_dubletter: \", nrow(dynarev_dubletter))\n",
    "paste0(\"Antall kolonner dynarev_dubletter: \", length(colnames(dynarev_dubletter)))\n",
    "\n",
    "head(dynarev_skjema)\n",
    "head(dynarev_dubletter)\n",
    "\n",
    "dynarev_skjema %>%\n",
    "filter(ENHETS_ID %in% unique(dynarev_dubletter$ENHETS_ID)) %>%\n",
    "select(FINST_ORGNR, FINST_NAVN)"
   ]
  },
  {
   "cell_type": "markdown",
   "id": "5c097828-8c06-40b6-8a41-7a40fade246e",
   "metadata": {},
   "source": [
    "### DUBLETTSJEKK MED VALGTE VARIABLER (skjema_cols)\n",
    "\n",
    "Dersom man ønsker å sjekke for dubletter etter én eller flere selvvalgte variabler skrives disse i en vektor, f.eks. c(\"variabel1\", \"variabel2\"). "
   ]
  },
  {
   "cell_type": "code",
   "execution_count": null,
   "id": "be8ebc96-9a01-4dea-bf32-ac6908f006d1",
   "metadata": {},
   "outputs": [],
   "source": [
    "dynarev <- fellesr::dynarev_uttrekk(delregnr = 2421, \n",
    "                           skjema = \"HELSE0X\",\n",
    "                           enhets_type = \"FRTK\",\n",
    "                           dublettsjekk = c(\"FORETAKSNR\", \"ART_SEKTOR\", \"FUNKSJON_KAPITTEL\")) # Men ikke FORETAKSNR, ART_SEKTOR og FUNKSJON_KAPITTEL\n",
    "\n",
    "dynarev_skjema <- data.frame(dynarev[1])\n",
    "dynarev_dubletter <- data.frame(dynarev[2])\n",
    "\n",
    "paste0(\"Antall rader dynarev_skjema: \", nrow(dynarev_skjema))\n",
    "paste0(\"Antall kolonner dynarev_skjema: \", length(colnames(dynarev_skjema)))\n",
    "\n",
    "paste0(\"Antall rader dynarev_dubletter: \", nrow(dynarev_dubletter))\n",
    "paste0(\"Antall kolonner dynarev_dubletter: \", length(colnames(dynarev_dubletter)))"
   ]
  },
  {
   "cell_type": "markdown",
   "id": "8f5c1f9c-e602-4de1-9db8-ca9d90d2aefd",
   "metadata": {},
   "source": [
    "### Laste inn flere skjema uten å skive passord (con_ask = FALSE) \n",
    "\n",
    "For å slippe å oppgi passord flere ganger når man skal laste inn flere skjema kan man skrive con_ask = FALSE. For at dette skal fungere må man logge på først øverst i scriptet: con <- dynarev_uttrekk(con_ask = \"con\")"
   ]
  },
  {
   "cell_type": "code",
   "execution_count": null,
   "id": "595d4ac0-2ba6-48f1-b22b-7f3e3f1c9bc2",
   "metadata": {},
   "outputs": [],
   "source": [
    "con <- fellesr::dynarev_uttrekk(con_ask = \"con\")\n",
    "\n",
    "dynarev_1 <- fellesr::dynarev_uttrekk(delregnr = delregnr, \n",
    "                           skjema = \"HELSE41\", \n",
    "                           skjema_cols = T,\n",
    "                           enhets_type = enhets_type, \n",
    "                          con_ask = FALSE)\n",
    "\n",
    "dynarev_2 <- fellesr::dynarev_uttrekk(delregnr = delregnr, \n",
    "                           skjema = \"HELSE46\", \n",
    "                           skjema_cols = T,\n",
    "                           enhets_type = \"BEDR\", \n",
    "                          con_ask = FALSE)\n",
    "\n",
    "dynarev_3 <- fellesr::dynarev_uttrekk(delregnr = delregnr, \n",
    "                           skjema = \"HELSE39\", \n",
    "                           skjema_cols = T,\n",
    "                           enhets_type = \"BEDR\", \n",
    "                          con_ask = FALSE)\n",
    "\n",
    "head(dynarev_1)\n",
    "head(dynarev_2)\n",
    "head(dynarev_3)"
   ]
  },
  {
   "cell_type": "markdown",
   "id": "51afe3e8-7dd0-46ed-8150-61eb904f06ab",
   "metadata": {},
   "source": [
    "### Laste inn flere skjema fra samme delreg i samme fil"
   ]
  },
  {
   "cell_type": "code",
   "execution_count": null,
   "id": "e07be40c-375b-4658-bbcb-4307fe25e7c8",
   "metadata": {},
   "outputs": [],
   "source": [
    "dynarev <- fellesr::dynarev_uttrekk(delregnr = 2420, \n",
    "                           skjema = c(\"HELSE38P\", \"HELSE39\", \"HELSE44P\"), \n",
    "                           skjema_cols = c(\"FORETAKETS_NAVN\", \"FORETAKETS_ORGNR\", \"HELSEREGION_EPOST\", \"HELSEREGION_NAVN\"),\n",
    "                           enhets_type = \"BEDR\")\n",
    "\n",
    "paste0(\"Antall rader: \", nrow(dynarev))\n",
    "paste0(\"Antall kolonner: \", length(colnames(dynarev)))\n",
    "\n",
    "head(dynarev)"
   ]
  },
  {
   "cell_type": "markdown",
   "id": "0195ce7b-1a5b-439b-b0c5-097bf5199dd5",
   "metadata": {},
   "source": [
    "### Laste inn alle skjema fra delreg i samme fil\n",
    "\n",
    "For å laste inn alle skjema fra samme delregister i samme fil skriver man skjema = T. Under enhets_type må man samtidig skrive inn alle enhetstypene som finnes i det valgte delregisteret (f.eks. BEDR og FRTK)"
   ]
  },
  {
   "cell_type": "code",
   "execution_count": null,
   "id": "2aad8e0b-2609-473b-8c24-52f97a183ec7",
   "metadata": {},
   "outputs": [],
   "source": [
    "dynarev <- fellesr::dynarev_uttrekk(delregnr = 2420, \n",
    "                           skjema = T, \n",
    "                           skjema_cols = T,\n",
    "                           enhets_type = c(\"BEDR\", \"FRTK\"), \n",
    "                          sfu_cols = F)\n",
    "\n",
    "paste0(\"Antall rader: \", nrow(dynarev))\n",
    "paste0(\"Antall kolonner: \", length(colnames(dynarev)))"
   ]
  },
  {
   "cell_type": "markdown",
   "id": "91e8cf74-1927-4a3b-9500-5f7881120f0a",
   "metadata": {},
   "source": [
    "### Laste inn sfu-data fra flere skjema fra delreg i samme fil\n",
    "\n",
    "Her lastes det inn SFU-data fra flere skjema (fra samme delregister)."
   ]
  },
  {
   "cell_type": "code",
   "execution_count": null,
   "id": "374a7a5a-aa7f-4164-b48b-50b5ac0eb1cd",
   "metadata": {},
   "outputs": [],
   "source": [
    "dynarev <- fellesr::dynarev_uttrekk(delregnr = 2420, \n",
    "                           skjema = c(\"HELSE38P\", \"HELSE39\", \"HELSE44P\"), \n",
    "                           skjema_cols = F,\n",
    "                           enhets_type = c(\"BEDR\", \"FRTK\"), \n",
    "                          sfu_cols = T)\n",
    "\n",
    "paste0(\"Antall rader: \", nrow(dynarev))\n",
    "paste0(\"Antall kolonner: \", length(colnames(dynarev)))\n",
    "\n",
    "head(dynarev)"
   ]
  },
  {
   "cell_type": "markdown",
   "id": "75b177db-2783-4f75-b056-6294ffa4032d",
   "metadata": {},
   "source": [
    "### Laste inn sfu-data fra alle skjema fra delreg i samme fil\n",
    "\n",
    "Her lastes det inn SFU-data fra flere skjema (fra samme delregister)."
   ]
  },
  {
   "cell_type": "code",
   "execution_count": null,
   "id": "0b957be5-05b1-4064-b1c4-90f8b6437983",
   "metadata": {},
   "outputs": [],
   "source": [
    "dynarev <- fellesr::dynarev_uttrekk(delregnr = delregnr, \n",
    "                           skjema = T, \n",
    "                           skjema_cols = F,\n",
    "                           enhets_type = c(\"BEDR\", \"FRTK\"), \n",
    "                          sfu_cols = c(\"NAVN\", \"ORGNR\"))\n",
    "\n",
    "paste0(\"Antall rader: \", nrow(dynarev))\n",
    "paste0(\"Antall kolonner: \", length(colnames(dynarev)))\n",
    "\n",
    "head(dynarev)"
   ]
  },
  {
   "cell_type": "markdown",
   "id": "81a9be40-05d3-489c-a335-a5a367c28228",
   "metadata": {},
   "source": [
    "### Laste inn rådata\n",
    "\n",
    "Her lastes det inn rådata fra de aktive enhetene i valgt skjema/valgte skjemaer."
   ]
  },
  {
   "cell_type": "code",
   "execution_count": null,
   "id": "55893748-7d63-45ff-98bc-2792176f3476",
   "metadata": {},
   "outputs": [],
   "source": [
    "dynarev <- fellesr::dynarev_uttrekk(delregnr = delregnr, \n",
    "                            skjema = T,\n",
    "                           skjema_cols = T,\n",
    "                           enhets_type = c(\"BEDR\", \"FRTK\"), \n",
    "                           raadata = T)\n",
    "\n",
    "paste0(\"Antall rader: \", nrow(dynarev))\n",
    "paste0(\"Antall kolonner: \", length(colnames(dynarev)))"
   ]
  }
 ],
 "metadata": {
  "kernelspec": {
   "display_name": "R",
   "language": "R",
   "name": "ir"
  },
  "language_info": {
   "codemirror_mode": "r",
   "file_extension": ".r",
   "mimetype": "text/x-r-source",
   "name": "R",
   "pygments_lexer": "r",
   "version": "4.1.3"
  }
 },
 "nbformat": 4,
 "nbformat_minor": 5
}
