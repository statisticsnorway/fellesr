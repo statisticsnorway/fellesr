{
 "cells": [
  {
   "cell_type": "markdown",
   "id": "520b24bb-706b-4bf7-a6c9-8d6a05ae1394",
   "metadata": {},
   "source": [
    "# Using renv at SSB\n"
   ]
  },
  {
   "cell_type": "markdown",
   "id": "cf8dcf1f-bbda-4e13-85a7-2358895d380b",
   "metadata": {},
   "source": [
    "- [Start a new environment for a project](#new)\n",
    "- [Use an environemt](#use)\n",
    "- [Add packages to an exsisting environment for a project](#update)"
   ]
  },
  {
   "cell_type": "markdown",
   "id": "1bc85031-fc80-49f6-a7d7-2490a7d7e66b",
   "metadata": {},
   "source": [
    "<a id = 'new'></a>\n",
    "## Start a new environment for a project\n",
    "####  1. Initialize renv\n",
    "The first thing to do is call renv library and fellesr library which contain the functions we will use to establish the environment"
   ]
  },
  {
   "cell_type": "code",
   "execution_count": null,
   "id": "29235f1c-751e-4a96-b34f-6e3f33479f56",
   "metadata": {},
   "outputs": [],
   "source": [
    "library(renv)\n",
    "source(\"renv_funcs.R\")\n",
    "#library(fellesr)"
   ]
  },
  {
   "cell_type": "markdown",
   "id": "7a59f051-1ca9-4e93-9e63-1b8ac378a2c7",
   "metadata": {},
   "source": [
    "Next, initialize the R environment (renv) if this is the first time using renv for the project. This only needs to be run one time (or until you want to make changes) so can be deleted out of the notebook after running. "
   ]
  },
  {
   "cell_type": "code",
   "execution_count": null,
   "id": "95b31be7-5354-4381-a4eb-9dde499c526a",
   "metadata": {},
   "outputs": [],
   "source": [
    "init()"
   ]
  },
  {
   "cell_type": "markdown",
   "id": "18f7548d-c702-4334-b6bd-77d777846ff5",
   "metadata": {},
   "source": [
    "Next create a dependencies file which lists which packages are required in your code and instruction on running. This will be added to when you add packages into your project. "
   ]
  },
  {
   "cell_type": "code",
   "execution_count": null,
   "id": "29cffeb8-6705-44f7-a772-585201b0c559",
   "metadata": {},
   "outputs": [],
   "source": [
    "create_dependencies()"
   ]
  },
  {
   "cell_type": "markdown",
   "id": "eec336b1-7c11-471a-acec-07ad9a000e43",
   "metadata": {},
   "source": [
    "#### 2. Install package and write/run code for project\n",
    "Next write your code and install the packages you need for the project. For example install the package A3 and run a model using the function a3 in the package."
   ]
  },
  {
   "cell_type": "code",
   "execution_count": null,
   "id": "ece5500e-cce8-42dc-8d03-04746492af7f",
   "metadata": {},
   "outputs": [],
   "source": [
    "install.packages(\"A3\")"
   ]
  },
  {
   "cell_type": "code",
   "execution_count": null,
   "id": "16ee8ac6-d954-4b69-89c5-38c2fd196a4d",
   "metadata": {},
   "outputs": [],
   "source": [
    "library(A3)\n",
    "a3(rating ~ ., attitude, lm, p.acc = 0.1)"
   ]
  },
  {
   "cell_type": "markdown",
   "id": "fd1e88f8-f413-47a3-8c92-4e071a790ada",
   "metadata": {},
   "source": [
    "#### 3. Take a snapshot\n",
    "When you are happy that your code is working and with the packages used and you want to record all the version tak a `snapshot`. This saves all the version number so others can restore it to an identical environment and run the code. "
   ]
  },
  {
   "cell_type": "code",
   "execution_count": null,
   "id": "d8dda3b7-5860-40d8-a4d8-b7cb867426d7",
   "metadata": {},
   "outputs": [],
   "source": [
    "snapshot()"
   ]
  },
  {
   "cell_type": "markdown",
   "id": "0bb7ac6a-2548-480d-89c8-4625ea27a8ff",
   "metadata": {},
   "source": [
    "You can check the package dependencies recorded in the lock file with `dependencies()`"
   ]
  },
  {
   "cell_type": "code",
   "execution_count": null,
   "id": "504ea26c-779b-44d2-96de-0d9018593187",
   "metadata": {},
   "outputs": [],
   "source": [
    "dependencies()"
   ]
  },
  {
   "cell_type": "markdown",
   "id": "5d8191a6-d838-45d2-aaac-e889d789153e",
   "metadata": {},
   "source": [
    "<a id = 'use'></a>\n",
    "## Use an environment\n",
    "If someone new would like to run your code using all the same packages they can use/restore the environment. This will install all the required packages if missing and ensure they are the same versions as you have used. First call the `renv` and `fellesr` packages and `init()` to ensure that the library path is set correctly."
   ]
  },
  {
   "cell_type": "code",
   "execution_count": null,
   "id": "7891d58a-4c65-4ed5-a118-055849892bc4",
   "metadata": {},
   "outputs": [],
   "source": [
    "library(renv)\n",
    "#library(fellesr)\n",
    "init()"
   ]
  },
  {
   "cell_type": "markdown",
   "id": "c999b605-c2f2-493f-84fd-3dfe4b9e88c6",
   "metadata": {},
   "source": [
    "Next restore from the environment with `restore`."
   ]
  },
  {
   "cell_type": "code",
   "execution_count": null,
   "id": "497669ae-0f76-4620-8d78-d0356262425a",
   "metadata": {},
   "outputs": [],
   "source": [
    "restore()"
   ]
  },
  {
   "cell_type": "markdown",
   "id": "33544379-b437-44ca-bc68-32baf9cc25a9",
   "metadata": {},
   "source": [
    "You will get either confirmation that everything is up-to-date or that packages are being updated/installed."
   ]
  },
  {
   "cell_type": "markdown",
   "id": "24cd6275-4e72-48fc-9701-386f3be1dcff",
   "metadata": {},
   "source": [
    "<a id = 'update'></a>\n",
    "## Add packages to an exsisting environment for a project\n",
    "If you are working in a saved environment, at some point you will want to update or add to the packages. This can, again, be done using the `snapshot` function. To ensure the library path is set correctly call the packages `renv`and `fellesr` and run `init()`. "
   ]
  },
  {
   "cell_type": "code",
   "execution_count": null,
   "id": "644f6f8c-77c5-4495-bbe3-17d37c1f4ff0",
   "metadata": {},
   "outputs": [],
   "source": [
    "library(renv)\n",
    "#library(fellesr)\n",
    "init()"
   ]
  },
  {
   "cell_type": "markdown",
   "id": "c5802815-debc-4cd3-bd7a-e42f622628a4",
   "metadata": {},
   "source": [
    "You can then install the packages or updates that you want and run you code to check everything is working as it should. "
   ]
  },
  {
   "cell_type": "code",
   "execution_count": null,
   "id": "fa75c499-d60e-4832-9433-eab5a4b7c655",
   "metadata": {},
   "outputs": [],
   "source": [
    "install.packages(\"klassR\")\n",
    "library(klassR)"
   ]
  },
  {
   "cell_type": "markdown",
   "id": "22cbd1d1-88a9-4c54-a104-ea2d80e5befe",
   "metadata": {},
   "source": [
    "The take a snapshot"
   ]
  },
  {
   "cell_type": "code",
   "execution_count": null,
   "id": "b04ad455-9648-4afe-ad58-7e1054c7690e",
   "metadata": {},
   "outputs": [],
   "source": [
    "snapshot()\n",
    "dependencies()"
   ]
  },
  {
   "cell_type": "markdown",
   "id": "610088d0-9d30-48ee-b205-c0555c01b706",
   "metadata": {},
   "source": [
    "You can remove packages from the lock file with `remove()`. Again save the changes for others using `snapshot()`"
   ]
  },
  {
   "cell_type": "code",
   "execution_count": null,
   "id": "96d6159a-b2cd-4cdb-9774-5a81019a4ea5",
   "metadata": {},
   "outputs": [],
   "source": [
    "remove(\"A3\")\n",
    "snapshot()"
   ]
  },
  {
   "cell_type": "markdown",
   "id": "3eca2c8e-f427-4f37-946d-2fc3a7582292",
   "metadata": {},
   "source": [
    "Check which packages are saved in the lock file by running `dependencies()`"
   ]
  },
  {
   "cell_type": "code",
   "execution_count": null,
   "id": "ef409bde-6e49-4d16-8b3d-9b14988e8656",
   "metadata": {},
   "outputs": [],
   "source": [
    "dependencies()"
   ]
  },
  {
   "cell_type": "markdown",
   "id": "ce4359df-ebd4-4ba1-b0f6-85fa75373889",
   "metadata": {},
   "source": [
    "Using the function `remove()` will remove the A3 library from the lock file so that others will not automatically install the package when using restore. IT will however leave the library in the renv folder. To remove all unused libraries you can clean up your library with"
   ]
  },
  {
   "cell_type": "code",
   "execution_count": null,
   "id": "3e38cfd9-d0d6-40ff-8f19-0c08a6f1f146",
   "metadata": {},
   "outputs": [],
   "source": [
    "renv::clean(actions = \"unused.packages\")"
   ]
  },
  {
   "cell_type": "markdown",
   "id": "72a8b050-d0e4-47f5-855a-b94e92e586a6",
   "metadata": {},
   "source": [
    "[**GO TO TOP**](#new)"
   ]
  }
 ],
 "metadata": {
  "kernelspec": {
   "display_name": "R",
   "language": "R",
   "name": "ir"
  },
  "language_info": {
   "codemirror_mode": "r",
   "file_extension": ".r",
   "mimetype": "text/x-r-source",
   "name": "R",
   "pygments_lexer": "r",
   "version": "4.2.0"
  }
 },
 "nbformat": 4,
 "nbformat_minor": 5
}
